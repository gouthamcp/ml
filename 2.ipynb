{
 "cells": [
  {
   "cell_type": "code",
   "execution_count": 6,
   "metadata": {},
   "outputs": [
    {
     "name": "stdout",
     "output_type": "stream",
     "text": [
      "['sunny', 'warm', 'normal', 'strong', 'warm', 'same', 'yes']\n",
      "['sunny', 'warm', 'high', 'strong', 'warm', 'same', 'yes']\n",
      "['rainy', 'cold', 'high', 'strong', 'warm', 'change', 'no']\n",
      "['sunny', 'warm', 'high', 'strong', 'cool', 'change', 'yes']\n",
      "['sunny', 'warm', 'normal', 'strong', 'warm', 'same']\n",
      "['?', '?', '?', '?', '?', '?']\n",
      "***********************************\n",
      "['sunny', 'warm', '?', 'strong', 'warm', 'same']\n",
      "['?', '?', '?', '?', '?', '?']\n",
      "***********************************\n",
      "['sunny', 'warm', '?', 'strong', 'warm', 'same']\n",
      "[['sunny', '?', '?', '?', '?', '?'], ['?', 'warm', '?', '?', '?', '?'], ['?', '?', '?', '?', '?', 'same']]\n",
      "***********************************\n",
      "['sunny', 'warm', '?', 'strong', '?', '?']\n",
      "[['sunny', '?', '?', '?', '?', '?'], ['?', 'warm', '?', '?', '?', '?']]\n",
      "***********************************\n"
     ]
    }
   ],
   "source": [
    "import csv\n",
    "a=[]\n",
    "num=6\n",
    "with open('enjoysport.csv','r') as kmj:\n",
    "    reader=csv.reader(kmj)\n",
    "    for row in reader:\n",
    "        a.append(row)\n",
    "        print(row)\n",
    "S=['0']*num\n",
    "G=['?']*num\n",
    "temp=[]\n",
    "for i in range(0,num):\n",
    "    S[i]=a[0][i]\n",
    "for i in range(0,len(a)):\n",
    "    if a[i][num]=='yes':\n",
    "        for j in range(0,num):\n",
    "            if S[j]!=a[i][j]:\n",
    "                S[j]='?'\n",
    "        for j in range(0,num):\n",
    "            for k in range(0,len(temp)):\n",
    "                if temp[k][j]!=S[j] and temp[k][j]!='?':\n",
    "                    del temp[k]\n",
    "    if a[i][num]=='no':\n",
    "        for j in range(0,num):\n",
    "            if a[i][j]!=S[j] and S[j]!='?':\n",
    "                G[j]=S[j]\n",
    "                temp.append(G)\n",
    "                G=['?']*num\n",
    "    print(S)\n",
    "    if len(temp)==0:\n",
    "        print(G)\n",
    "    else:\n",
    "        print(temp)\n",
    "    print(\"***********************************\")\n"
   ]
  },
  {
   "cell_type": "code",
   "execution_count": null,
   "metadata": {},
   "outputs": [],
   "source": []
  },
  {
   "cell_type": "code",
   "execution_count": null,
   "metadata": {},
   "outputs": [],
   "source": []
  }
 ],
 "metadata": {
  "kernelspec": {
   "display_name": "Python 3",
   "language": "python",
   "name": "python3"
  },
  "language_info": {
   "codemirror_mode": {
    "name": "ipython",
    "version": 3
   },
   "file_extension": ".py",
   "mimetype": "text/x-python",
   "name": "python",
   "nbconvert_exporter": "python",
   "pygments_lexer": "ipython3",
   "version": "3.8.3"
  }
 },
 "nbformat": 4,
 "nbformat_minor": 4
}
