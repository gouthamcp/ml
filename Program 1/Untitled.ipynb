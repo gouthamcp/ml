{
 "cells": [
  {
   "cell_type": "raw",
   "metadata": {},
   "source": [
    "# Implement and demonstrate the FIND-S algorithm for finding the \n",
    "most specific hypothesis based on a given set of training data samples. \n",
    "Read the training data from a .CSV file"
   ]
  },
  {
   "cell_type": "code",
   "execution_count": 11,
   "metadata": {},
   "outputs": [
    {
     "name": "stdout",
     "output_type": "stream",
     "text": [
      "['Sunny', 'Warm', 'Normal', 'Strong', 'Warm', 'Same', 'Yes']\n",
      "['Sunny', 'Warm', 'High', 'Strong', 'Warm', 'Same', 'Yes']\n",
      "['Rainy', 'Cold', 'High', 'Strong', 'Warm', 'Change', 'No']\n",
      "['Sunny', 'Warm', 'High', 'Strong', 'Cool', 'Change', 'Yes']\n",
      "\n",
      " The initial hypothesis is : \n",
      "['0', '0', '0', '0', '0', '0']\n",
      "For Traing Instance 0 the Hypothesis is : ['Sunny', 'Warm', 'Normal', 'Strong', 'Warm', 'Same']\n",
      "For Traing Instance 1 the Hypothesis is : ['Sunny', 'Warm', '?', 'Strong', 'Warm', 'Same']\n",
      "For Traing Instance 2 the Hypothesis is : ['Sunny', 'Warm', '?', 'Strong', 'Warm', 'Same']\n",
      "For Traing Instance 3 the Hypothesis is : ['Sunny', 'Warm', '?', 'Strong', '?', '?']\n",
      "\n",
      " The Maximally specific hypothesis for the training instance is \n",
      "['Sunny', 'Warm', '?', 'Strong', '?', '?']\n"
     ]
    }
   ],
   "source": [
    "import csv\n",
    "a = []\n",
    "\n",
    "with open('enjoysport.csv', 'r') as csvfile:\n",
    "    for row in csv.reader(csvfile):\n",
    "        a.append(row)\n",
    "        print(row)\n",
    "\n",
    "num_attribute = 6\n",
    "\n",
    "print(\"\\n The initial hypothesis is : \")\n",
    "hypothesis = ['0']*num_attribute\n",
    "print(hypothesis)\n",
    "\n",
    "for i in range(num_attribute):\n",
    "    hypothesis[i] = a[0][i]\n",
    "\n",
    "for i in range(len(a)):\n",
    "    if a[i][num_attribute] == 'Yes':\n",
    "        for j in range(num_attribute):\n",
    "            if hypothesis[j] != a[i][j]:\n",
    "                hypothesis[j] = '?'\n",
    "    print('For Traing Instance {0} the Hypothesis is : {1}'.format(i,hypothesis))\n",
    "\n",
    "print(\"\\n The Maximally specific hypothesis for the training instance is \")\n",
    "print(hypothesis)"
   ]
  }
 ],
 "metadata": {
  "kernelspec": {
   "display_name": "Python 3",
   "language": "python",
   "name": "python3"
  },
  "language_info": {
   "codemirror_mode": {
    "name": "ipython",
    "version": 3
   },
   "file_extension": ".py",
   "mimetype": "text/x-python",
   "name": "python",
   "nbconvert_exporter": "python",
   "pygments_lexer": "ipython3",
   "version": "3.7.4"
  }
 },
 "nbformat": 4,
 "nbformat_minor": 2
}
